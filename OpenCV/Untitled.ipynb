{
 "cells": [
  {
   "cell_type": "code",
   "execution_count": 4,
   "id": "0741a861-8c4a-4ed4-a0da-eeabe9ff1872",
   "metadata": {},
   "outputs": [],
   "source": [
    "import cv2\n",
    "# img = cv2.imread(\"elephant.jpg\", -1)\n",
    "# img = cv2.arrowedLine(img, (0,0), (400,400), (255,0,0),10)\n",
    "# cv2.imshow('Image', img)\n",
    "# cv2.waitKey(0)\n",
    "# cv2.destroyAllWindows()\n",
    "\n",
    "\n",
    "\n",
    "# cv2.imwrite('result.png', img)\n",
    "faceCascade = cv2.CascadeClassifier(\"cascade.xml\")\n",
    "# eyeCascade = cv2.CascadeClassifier(\"glasses.xml\")\n",
    "# noseCasecade = cv2.CascadeClassifier(\"nose.xml\")\n",
    "# mouthCascade = cv2.CascadeClassifier(\"mouth.xml\")\n",
    "\n",
    "def generateDataset(img, id, img_id):\n",
    "    cv2.imwrite(\"data/pic.\"+str(id)+\".\"+str(img_id)+\".jpg\", img)\n",
    "\n",
    "def drawSquare(img, classifier, scaleFactor, minNeighbors, color, text):\n",
    "    gray = cv2.cvtColor(img, cv2.COLOR_BGR2GRAY)\n",
    "    features = classifier.detectMultiScale(gray, scaleFactor, minNeighbors)\n",
    "    coords = []\n",
    "    for (x,y,w,h) in features:\n",
    "        cv2.rectangle(img, (x,y), (x+w, y+h), color, 2)\n",
    "        cv2.putText(img, text, (x, y-4), cv2.FONT_HERSHEY_SIMPLEX, 0.8, color, 1)\n",
    "        coords = [x,y,w,h]\n",
    "    return img, coords\n",
    "\n",
    "def detect(img,imgID):\n",
    "    img, coords = drawSquare(img=img, classifier=faceCascade, scaleFactor=1.1, minNeighbors=10, color=(255,0,0), text=\"face\")\n",
    "    # img, coords = drawSquare(img, eyeCascade, 1.1, 12, (0,255,0), \"eye\")\n",
    "    # img, coords = drawSquare(img, noseCasecade, 1.1, 15, (0,0,255), \"nose\")\n",
    "    # img, coords = drawSquare(img, mouthCascade, 1.3, 30, (100,100,100), \"mouth\")\n",
    "    \n",
    "    if len(coords) == 4: #Found face\n",
    "        id = 1\n",
    "        result = img[coords[1]:coords[1]+coords[3], coords[0]:coords[0]+coords[2]]\n",
    "        generateDataset(result, id, imgID)\n",
    "    return img\n",
    "imgID = 0\n",
    "cap = cv2.VideoCapture(0)\n",
    "while True:\n",
    "    ret, frame = cap.read()\n",
    "    frame = detect(frame, imgID)\n",
    "    # gray = cv2.cvtColor(frame, cv2.COLOR_BGR2GRAY)\n",
    "    cv2.imshow('Gu Lhor Jud', frame)\n",
    "    imgID += 1\n",
    "    if (cv2.waitKey(1) & 0xFF==ord(\"q\")):\n",
    "        break\n",
    "\n",
    "cap.release()\n",
    "cv2.destroyAllWindows()\n",
    "\n"
   ]
  },
  {
   "cell_type": "code",
   "execution_count": 1,
   "id": "05f4c4a1-ffe9-4e4c-9c82-62d00cdb1a39",
   "metadata": {},
   "outputs": [
    {
     "name": "stdout",
     "output_type": "stream",
     "text": [
      "Collecting opencv-python\n",
      "  Obtaining dependency information for opencv-python from https://files.pythonhosted.org/packages/a1/f6/57de91ea40c670527cd47a6548bf2cbedc68cec57c041793b256356abad7/opencv_python-4.8.1.78-cp37-abi3-macosx_11_0_arm64.whl.metadata\n",
      "  Using cached opencv_python-4.8.1.78-cp37-abi3-macosx_11_0_arm64.whl.metadata (19 kB)\n",
      "Collecting numpy>=1.21.2 (from opencv-python)\n",
      "  Obtaining dependency information for numpy>=1.21.2 from https://files.pythonhosted.org/packages/e8/06/0512e2582fd27bb7b358fa1e4ffc0f6c89c89f5ada31df58c5fa93171098/numpy-1.26.1-cp311-cp311-macosx_11_0_arm64.whl.metadata\n",
      "  Downloading numpy-1.26.1-cp311-cp311-macosx_11_0_arm64.whl.metadata (115 kB)\n",
      "\u001b[2K     \u001b[90m━━━━━━━━━━━━━━━━━━━━━━━━━━━━━━━━━━━━━━━\u001b[0m \u001b[32m115.1/115.1 kB\u001b[0m \u001b[31m1.3 MB/s\u001b[0m eta \u001b[36m0:00:00\u001b[0m00:01\u001b[0m00:01\u001b[0m\n",
      "\u001b[?25hUsing cached opencv_python-4.8.1.78-cp37-abi3-macosx_11_0_arm64.whl (33.1 MB)\n",
      "Downloading numpy-1.26.1-cp311-cp311-macosx_11_0_arm64.whl (14.0 MB)\n",
      "\u001b[2K   \u001b[90m━━━━━━━━━━━━━━━━━━━━━━━━━━━━━━━━━━━━━━━━\u001b[0m \u001b[32m14.0/14.0 MB\u001b[0m \u001b[31m7.1 MB/s\u001b[0m eta \u001b[36m0:00:00\u001b[0m00:01\u001b[0m00:01\u001b[0m\n",
      "\u001b[?25hInstalling collected packages: numpy, opencv-python\n",
      "Successfully installed numpy-1.26.1 opencv-python-4.8.1.78\n"
     ]
    }
   ],
   "source": [
    "!pip3 install opencv-python"
   ]
  },
  {
   "cell_type": "code",
   "execution_count": null,
   "id": "7a638735-d1f6-49dd-bb80-d36506260f44",
   "metadata": {},
   "outputs": [],
   "source": []
  }
 ],
 "metadata": {
  "kernelspec": {
   "display_name": "Python 3 (ipykernel)",
   "language": "python",
   "name": "python3"
  },
  "language_info": {
   "codemirror_mode": {
    "name": "ipython",
    "version": 3
   },
   "file_extension": ".py",
   "mimetype": "text/x-python",
   "name": "python",
   "nbconvert_exporter": "python",
   "pygments_lexer": "ipython3",
   "version": "3.11.5"
  }
 },
 "nbformat": 4,
 "nbformat_minor": 5
}
