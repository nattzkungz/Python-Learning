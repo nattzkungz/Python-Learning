{
 "cells": [
  {
   "cell_type": "code",
   "execution_count": 3,
   "metadata": {},
   "outputs": [
    {
     "name": "stdout",
     "output_type": "stream",
     "text": [
      "['H', 'e', 'l', 'l', 'o']\n",
      "['x', 'y', 'z', 'a', 'b']\n"
     ]
    }
   ],
   "source": [
    "## Draft for caesar cipher\n",
    "listForTest = [\"x\", \"y\", \"z\", \"a\", \"b\"]\n",
    "word1 = \"Hello\"\n",
    "word1List = list(word1)\n",
    "print(word1List)\n",
    "\n",
    "word1Length = len(word1)\n",
    "\n",
    "for x in range(word1Length):\n",
    "    word1List[x] = listForTest[x]\n",
    "    \n",
    "print(word1List)"
   ]
  },
  {
   "cell_type": "code",
   "execution_count": 5,
   "metadata": {},
   "outputs": [
    {
     "name": "stdout",
     "output_type": "stream",
     "text": [
      "Type 'encode' to encrypt, type 'decode' to decrypt:\n",
      "decode\n",
      "Type your message:\n",
      "mjqqt\n",
      "Type the shift number:\n",
      "5\n",
      "Your decoded message is : hello\n"
     ]
    }
   ],
   "source": [
    "## Caesar Cipher text encryption day8 (Unsimplified)\n",
    "\n",
    "alphabet = ['a', 'b', 'c', 'd', 'e', 'f', 'g', 'h', 'i', 'j', 'k', 'l', 'm', 'n', 'o', 'p', 'q', 'r', 's', 't', 'u', 'v', 'w', 'x', 'y', 'z', 'a', 'b', 'c', 'd', 'e', 'f', 'g', 'h', 'i', 'j', 'k', 'l', 'm', 'n', 'o', 'p', 'q', 'r', 's', 't', 'u', 'v', 'w', 'x', 'y', 'z']\n",
    "\n",
    "direction = input(\"Type 'encode' to encrypt, type 'decode' to decrypt:\\n\")\n",
    "text = input(\"Type your message:\\n\").lower()\n",
    "shift = int(input(\"Type the shift number:\\n\"))\n",
    "\n",
    "def encrypt(plain_text, shift_amount):\n",
    "    textList = list(text)\n",
    "    wordLength = len(text)\n",
    "    \n",
    "    for x in range(wordLength):\n",
    "      alphabetIndex = alphabet.index(textList[x])\n",
    "      textList[x] = alphabet[alphabetIndex + shift]\n",
    "\n",
    "    print(f\"Your encoded message is : {''.join(textList)}\")\n",
    "    \n",
    "def decrypt(plain_text, shift_amount):\n",
    "    textList = list(text)\n",
    "    wordLength = len(text)\n",
    "    \n",
    "    for x in range(wordLength):\n",
    "      alphabetIndex = alphabet.index(textList[x])\n",
    "      textList[x] = alphabet[alphabetIndex - shift]\n",
    "\n",
    "    print(f\"Your decoded message is : {''.join(textList)}\")\n",
    "    \n",
    "if direction == \"encode\":\n",
    "    encrypt(plain_text=text, shift_amount=shift)\n",
    "elif direction == \"decode\":\n",
    "    decrypt(plain_text=text, shift_amount=shift)"
   ]
  },
  {
   "cell_type": "code",
   "execution_count": 18,
   "metadata": {},
   "outputs": [
    {
     "name": "stdout",
     "output_type": "stream",
     "text": [
      "Type 'encode' to encrypt, type 'decode' to decrypt:\n",
      "decode\n",
      "Type your message:\n",
      "mjqqt\n",
      "Type the shift number:\n",
      "5\n",
      "Your decoded message is : hello\n"
     ]
    }
   ],
   "source": [
    "## Caesar Cipher simplified day8\n",
    "\n",
    "alphabet = ['a', 'b', 'c', 'd', 'e', 'f', 'g', 'h', 'i', 'j', 'k', 'l', 'm', 'n', 'o', 'p', 'q', 'r', 's', 't', 'u', 'v', 'w', 'x', 'y', 'z', 'a', 'b', 'c', 'd', 'e', 'f', 'g', 'h', 'i', 'j', 'k', 'l', 'm', 'n', 'o', 'p', 'q', 'r', 's', 't', 'u', 'v', 'w', 'x', 'y', 'z']\n",
    "\n",
    "direction = input(\"Type 'encode' to encrypt, type 'decode' to decrypt:\\n\")\n",
    "text = input(\"Type your message:\\n\").lower()\n",
    "shift = int(input(\"Type the shift number:\\n\"))\n",
    "\n",
    "def caesar(direction, text, shift):\n",
    "    \n",
    "    textList = list(text)\n",
    "    wordLength = len(text)\n",
    "    if direction == \"decode\":\n",
    "            shift *= -1\n",
    "            \n",
    "    for x in range(wordLength):\n",
    "        alphabetIndex = alphabet.index(textList[x])\n",
    "        textList[x] = alphabet[alphabetIndex + shift]\n",
    "        \n",
    "    print(f\"Your {direction}d message is : {''.join(textList)}\")\n",
    "#     if encode_or_decode:\n",
    "#         print(f\"Your encoded message is : {''.join(textList)}\")\n",
    "#     else:\n",
    "#         print(f\"Your decoded message is : {''.join(textList)}\")\n",
    "        \n",
    "caesar(direction, text, shift)"
   ]
  },
  {
   "cell_type": "code",
   "execution_count": 21,
   "metadata": {},
   "outputs": [
    {
     "name": "stdout",
     "output_type": "stream",
     "text": [
      "[{'H': 99, 'Y': 65, 'z': [1, 2, 3]}]\n"
     ]
    }
   ],
   "source": [
    "h = []\n",
    "h.append({\"H\":99,\"Y\":65,\"z\":[1,2,3]})\n",
    "print(h)\n"
   ]
  },
  {
   "cell_type": "code",
   "execution_count": 24,
   "metadata": {},
   "outputs": [
    {
     "name": "stdout",
     "output_type": "stream",
     "text": [
      "7\n"
     ]
    }
   ],
   "source": [
    "q = 0\n",
    "y = {\"a\":5,\"b\":7}\n",
    "for i in y:\n",
    "    if y[i] > q:\n",
    "        q = y[i]\n",
    "\n",
    "print(q)"
   ]
  },
  {
   "cell_type": "code",
   "execution_count": 27,
   "metadata": {},
   "outputs": [
    {
     "name": "stdout",
     "output_type": "stream",
     "text": [
      "welcome to blind auction program\n",
      "What is your name?: Natt\n",
      "What is your bid?: $1200\n",
      "More people? type yes or no: yes\n",
      "What is your name?: Max\n",
      "What is your bid?: $2000\n",
      "More people? type yes or no: yes\n",
      "What is your name?: Kan\n",
      "What is your bid?: $2100\n",
      "More people? type yes or no: no\n",
      "The winner of this item is Kan at $2100\n"
     ]
    }
   ],
   "source": [
    "## Blind Auction Program day9\n",
    "# from replit import clear\n",
    "# #HINT: You can call clear() to clear the output in the console.\n",
    "# from art import logo\n",
    "# print(logo)\n",
    "print(\"welcome to blind auction program\")\n",
    "\n",
    "status = True\n",
    "\n",
    "bidders = {}\n",
    "highest_bid = 0\n",
    "the_winner = \"\"\n",
    "def add_bidders(name_of_bidder, bid_given):\n",
    "  bidders[name_of_bidder] = bid_given\n",
    "\n",
    "while status:\n",
    "  name = input(\"What is your name?: \")\n",
    "  bid = int(input(\"What is your bid?: $\"))\n",
    "  next_person = input(\"More people? type yes or no: \")\n",
    "  if next_person == \"no\":\n",
    "    status = False\n",
    "#   clear()\n",
    "  add_bidders(name_of_bidder=name, bid_given=bid)\n",
    "\n",
    "for person in bidders:\n",
    "  if bidders[person] > highest_bid:\n",
    "    highest_bid = bidders[person]\n",
    "    the_winner = person\n",
    "\n",
    "print(f\"The winner of this item is {the_winner} at ${highest_bid}\")\n"
   ]
  },
  {
   "cell_type": "code",
   "execution_count": null,
   "metadata": {},
   "outputs": [],
   "source": []
  }
 ],
 "metadata": {
  "kernelspec": {
   "display_name": "Python 3",
   "language": "python",
   "name": "python3"
  },
  "language_info": {
   "codemirror_mode": {
    "name": "ipython",
    "version": 3
   },
   "file_extension": ".py",
   "mimetype": "text/x-python",
   "name": "python",
   "nbconvert_exporter": "python",
   "pygments_lexer": "ipython3",
   "version": "3.8.2"
  }
 },
 "nbformat": 4,
 "nbformat_minor": 4
}
