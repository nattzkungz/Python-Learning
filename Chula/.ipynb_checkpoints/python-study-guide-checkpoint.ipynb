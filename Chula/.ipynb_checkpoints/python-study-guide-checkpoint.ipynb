{
 "cells": [
  {
   "cell_type": "code",
   "execution_count": 1,
   "metadata": {},
   "outputs": [
    {
     "name": "stdout",
     "output_type": "stream",
     "text": [
      "a\n",
      "b\n",
      "c\n",
      "d\n"
     ]
    }
   ],
   "source": [
    "alphabets = [\"a\", \"b\", \"c\", \"d\"]\n",
    "number_of_alphabets = len(alphabets)\n",
    "# len() is the function that counts string, list, dictionary, and more\n",
    "for i in range(number_of_alphabets):\n",
    "    each_alphabet = alphabets[i]\n",
    "    print(each_alphabet)"
   ]
  },
  {
   "cell_type": "code",
   "execution_count": 5,
   "metadata": {},
   "outputs": [
    {
     "name": "stdout",
     "output_type": "stream",
     "text": [
      "0 2 4 6 8 "
     ]
    }
   ],
   "source": [
    "for i in range(0,10,2): \n",
    "    print(i, end=\" \")"
   ]
  },
  {
   "cell_type": "code",
   "execution_count": 9,
   "metadata": {},
   "outputs": [
    {
     "name": "stdout",
     "output_type": "stream",
     "text": [
      "x y z \n",
      "a b c d "
     ]
    }
   ],
   "source": [
    "alphabets_string = \"xyz\"\n",
    "alphabets_list = [\"a\", \"b\", \"c\", \"d\"]\n",
    "\n",
    "for alphabet in alphabets_string:\n",
    "    print(alphabet, end=\" \")\n",
    "\n",
    "print()\n",
    "\n",
    "for character in alphabets_list:\n",
    "    print(character, end=\" \")"
   ]
  },
  {
   "cell_type": "code",
   "execution_count": 2,
   "metadata": {},
   "outputs": [
    {
     "name": "stdout",
     "output_type": "stream",
     "text": [
      "a\n",
      "b\n",
      "c\n",
      "q\n",
      "['a', 'b', 'c']\n"
     ]
    }
   ],
   "source": [
    "data_storage = []\n",
    "while True:\n",
    "    user_input = input()\n",
    "    if user_input == \"q\": #This specifies that if user enter q into the program\n",
    "        break #The loop will stop\n",
    "    else:\n",
    "        data_storage.append(user_input)\n",
    "\n",
    "print(data_storage)"
   ]
  },
  {
   "cell_type": "code",
   "execution_count": null,
   "metadata": {},
   "outputs": [],
   "source": []
  }
 ],
 "metadata": {
  "interpreter": {
   "hash": "b0fa6594d8f4cbf19f97940f81e996739fb7646882a419484c72d19e05852a7e"
  },
  "kernelspec": {
   "display_name": "Python 3 (ipykernel)",
   "language": "python",
   "name": "python3"
  },
  "language_info": {
   "codemirror_mode": {
    "name": "ipython",
    "version": 3
   },
   "file_extension": ".py",
   "mimetype": "text/x-python",
   "name": "python",
   "nbconvert_exporter": "python",
   "pygments_lexer": "ipython3",
   "version": "3.9.9"
  }
 },
 "nbformat": 4,
 "nbformat_minor": 2
}
