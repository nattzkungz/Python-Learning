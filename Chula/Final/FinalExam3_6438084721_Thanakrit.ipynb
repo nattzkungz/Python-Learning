{
 "cells": [
  {
   "cell_type": "markdown",
   "metadata": {
    "id": "JGaIK511__YC"
   },
   "source": [
    "# Final Exam Part3: Language Model\n"
   ]
  },
  {
   "cell_type": "markdown",
   "metadata": {
    "id": "ce2qwWMvuKhz"
   },
   "source": [
    "[Link to problem](https://docs.google.com/document/d/1yliw1he71QN_laxYi9x5zjv68jM-UNXh19ccDX7C29E/edit?usp=sharing)"
   ]
  },
  {
   "cell_type": "markdown",
   "metadata": {
    "id": "PMdCdp3QuQAN"
   },
   "source": [
    "## Put {Your ID} {Firstname} {Lastname}\n",
    "## For example, 64xxxxxxxx Somchai West\n",
    "\n",
    "## 6438084721 Thanakrit Trongmahavisate\n"
   ]
  },
  {
   "cell_type": "markdown",
   "metadata": {
    "id": "KMtcOcrTANqY"
   },
   "source": [
    "<font color=red>Please rename this notebook as *FinalExam3_{Your ID}_{Firstname}.ipynb* e.g. FinalExam3_64xxxxxxxx_Somchai.ipynb \n",
    "\n",
    "After that, download *file.ipynb* (or *file.py*) and submit it in MyCourseVille.</font>\n"
   ]
  },
  {
   "cell_type": "code",
   "execution_count": 1,
   "metadata": {
    "id": "hP7snVfobMpY"
   },
   "outputs": [],
   "source": [
    "#############################################\n",
    "# FUNCTIONS (FILL CODE IN THIS PART)\n",
    "#############################################\n",
    "def train_language_model(data):\n",
    "  # Input:\n",
    "  #    data: a list of sentences\n",
    "  # Return:\n",
    "  #    model: a dictionary which contains\n",
    "  #           (1) unk: default value for unknown word\n",
    "  #           (2) unigram: a dictionary of unigram counts\n",
    "  #           (3) bigram: a dictionary of bigram counts\n",
    "  model = dict()\n",
    "  unigram = dict()\n",
    "  bigram = dict()\n",
    "  unk = 0\n",
    "\n",
    "  # fill your code here\n",
    "\n",
    "  model['unk'] = unk\n",
    "  model['unigram'] = unigram\n",
    "  model['bigram'] = bigram\n",
    "  return model\n",
    "\n",
    "def compute_sentence(sentence, model):\n",
    "  # Input:\n",
    "  #    sentence: an input string to be calculated probability\n",
    "  #    model: language model\n",
    "  # Return:\n",
    "  #    probability: probability of sentence to occur\n",
    "  probability = 1.0\n",
    "  return probability"
   ]
  },
  {
   "cell_type": "code",
   "execution_count": 2,
   "metadata": {
    "id": "8rl4rqt-G6bw"
   },
   "outputs": [
    {
     "name": "stdout",
     "output_type": "stream",
     "text": [
      "- 0 vocabularies\n",
      "- 0 word pairs\n",
      "\n"
     ]
    }
   ],
   "source": [
    "#############################################\n",
    "# MAIN (DO NOT CHANGE THIS PART)\n",
    "#############################################\n",
    "\n",
    "# Step1: read data\n",
    "data = [\"<s> I am Sam </s>\", \"<s> Sam I am </s>\", \"<s> I am not Sam </s>\"]\n",
    "\n",
    "# Step2: train language model\n",
    "model = train_language_model(data)\n",
    "print('-', len(model['unigram']), 'vocabularies')\n",
    "print('-', len(model['bigram']), 'word pairs')\n",
    "print()"
   ]
  },
  {
   "cell_type": "code",
   "execution_count": 3,
   "metadata": {
    "id": "SBvKNMgjrHvh"
   },
   "outputs": [
    {
     "name": "stdout",
     "output_type": "stream",
     "text": [
      "Case1: Prob of <s> I am Sam </s> = 1.0\n",
      "Case2: Prob of <s> I love Sam </s> = 1.0\n",
      "Case5: Prob of empty string = 1.0\n",
      "Case4: Prob of <s> I am not Sam </s> = 1.0\n",
      "Case5: Prob of <s> Sam not I </s> = 1.0\n",
      "Case6: Prob of <s> = 1.0\n"
     ]
    }
   ],
   "source": [
    "#############################################\n",
    "# TEST CASES (DO NOT CHANGE THIS PART)\n",
    "#############################################\n",
    "i = 0\n",
    "# Case1: The prob should be 0.14815\n",
    "sentence = \"<s> I am Sam </s>\"\n",
    "probability = compute_sentence(sentence, model)\n",
    "print('Case1: Prob of',sentence, \"=\", round(probability,5))\n",
    "\n",
    "# Case2: The prob should be 0.01235\n",
    "sentence = \"<s> I love Sam </s>\"\n",
    "probability = compute_sentence(sentence, model)\n",
    "print('Case2: Prob of',sentence, \"=\", round(probability,5))\n",
    "\n",
    "# Case3: The prob should be 0.16667\n",
    "sentence = \"\"\n",
    "probability = compute_sentence(sentence, model)\n",
    "print('Case5: Prob of empty string =', round(probability,5))\n",
    "\n",
    "# Case4: What is the prob?\n",
    "sentence = \"<s> I am not Sam </s>\"\n",
    "probability = compute_sentence(sentence, model)\n",
    "print('Case4: Prob of',sentence, \"=\", round(probability,5))\n",
    "\n",
    "# Case5: What is the prob?\n",
    "sentence = \"<s> Sam not I </s>\"\n",
    "probability = compute_sentence(sentence, model)\n",
    "print('Case5: Prob of',sentence, \"=\", round(probability,5))\n",
    "\n",
    "# Case6: What is the prob?\n",
    "sentence = \"<s>\"\n",
    "probability = compute_sentence(sentence, model)\n",
    "print('Case6: Prob of',sentence, \"=\", round(probability,5))"
   ]
  },
  {
   "cell_type": "code",
   "execution_count": null,
   "metadata": {},
   "outputs": [],
   "source": []
  }
 ],
 "metadata": {
  "colab": {
   "collapsed_sections": [],
   "name": "FinalExam3_ToStudent.ipynb",
   "provenance": []
  },
  "kernelspec": {
   "display_name": "Python 3 (ipykernel)",
   "language": "python",
   "name": "python3"
  },
  "language_info": {
   "codemirror_mode": {
    "name": "ipython",
    "version": 3
   },
   "file_extension": ".py",
   "mimetype": "text/x-python",
   "name": "python",
   "nbconvert_exporter": "python",
   "pygments_lexer": "ipython3",
   "version": "3.9.7"
  }
 },
 "nbformat": 4,
 "nbformat_minor": 1
}
