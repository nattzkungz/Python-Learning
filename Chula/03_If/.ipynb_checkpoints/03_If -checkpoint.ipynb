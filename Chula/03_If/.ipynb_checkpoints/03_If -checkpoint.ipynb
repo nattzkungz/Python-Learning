{
 "cells": [
  {
   "cell_type": "markdown",
   "id": "f97e9212",
   "metadata": {},
   "source": [
    "# 03_If Section\n",
    "\n",
    "#### Purpose of this notebook is to help everyone understand more Python"
   ]
  },
  {
   "cell_type": "markdown",
   "id": "2e1cd813",
   "metadata": {},
   "source": [
    "# 03_If_01"
   ]
  },
  {
   "cell_type": "code",
   "execution_count": 3,
   "id": "2c9283ed",
   "metadata": {},
   "outputs": [
    {
     "name": "stdout",
     "output_type": "stream",
     "text": [
      "02\n",
      "OK\n"
     ]
    }
   ],
   "source": [
    "faculty_list = [\"01\", \"02\", \"20\" ,\"21\" ,\"22\" ,\"23\" ,\"24\" ,\"25\" ,\"26\" ,\"28\" ,\"29\" ,\"30\" ,\"31\" ,\"32\" ,\"33\" ,\"34\" ,\"35\" ,\"36\" ,\"37\" ,\"38\" ,\"39\" ,\"40\" ,\"51\" ,\"53\" ,\"55\" ,\"58\"]\n",
    "if input() in faculty_list: #Check if input is in faculty_list\n",
    "    print(\"OK\")\n",
    "else: \n",
    "    print(\"Error\")"
   ]
  },
  {
   "cell_type": "markdown",
   "id": "0fbf1f6b",
   "metadata": {},
   "source": [
    "# 03_If_02\n",
    "\n",
    "If-else statement\n",
    "This condition will not work if you filp the condition around (starts with if a >= 50:)\n",
    "because it is how if-else statement works\n",
    "\n",
    "It checks from the first condition to the last one"
   ]
  },
  {
   "cell_type": "code",
   "execution_count": 12,
   "id": "ede676ae",
   "metadata": {},
   "outputs": [
    {
     "name": "stdout",
     "output_type": "stream",
     "text": [
      "67\n",
      "C\n"
     ]
    }
   ],
   "source": [
    "a = float(input()) #Requires float input because they use decimals in testcase\n",
    "\n",
    "if a >= 80: \n",
    "    print(\"A\")\n",
    "elif a >= 70: \n",
    "    print(\"B\")\n",
    "elif a >= 60: \n",
    "    print(\"C\")\n",
    "elif a >= 50: \n",
    "    print(\"D\")\n",
    "else: \n",
    "    print(\"F\") "
   ]
  },
  {
   "cell_type": "markdown",
   "id": "e84faad1",
   "metadata": {},
   "source": [
    "# 03_If_03\n",
    "\n",
    "Use for-loop to determine min-max value and put it into a list\n",
    "\n",
    "To visualize the steps, use Thonny https://thonny.org\n",
    "\n",
    "sum() is the function for add every number in a list together"
   ]
  },
  {
   "cell_type": "code",
   "execution_count": 15,
   "id": "82fb9409",
   "metadata": {},
   "outputs": [
    {
     "name": "stdout",
     "output_type": "stream",
     "text": [
      "2.1 2.0 2.0 3.21\n",
      "2.05\n"
     ]
    }
   ],
   "source": [
    "number_input = input().split(\" \")\n",
    "number_list = [float(_) for _ in number_input] #To change everything in the list to float\n",
    "min_max_list = [] #Create empty list \n",
    "free_variable = 0 #Set free variable a value\n",
    "\n",
    "## Find maximum value\n",
    "for _ in number_list: #For value in number_list (This will loop all value in the list(From first to last))\n",
    "    if free_variable < _: #Check if current value is more than free_variable\n",
    "        free_variable = _ #If the condition is met, it will set free_variable to that value\n",
    "min_max_list.append(free_variable) #And add it into the min-max list (This need to be outside for-loop)\n",
    "\n",
    "# Find minimum value\n",
    "## Can use the same or different variable to find min value because its going to set the variable a new value anyway\n",
    "for _ in number_list:\n",
    "    if free_variable > _:\n",
    "        free_variable = _\n",
    "min_max_list.append(free_variable)\n",
    "       \n",
    "# Remove min-max value from number_list\n",
    "for _ in min_max_list: #For value in min_max_list\n",
    "    if _ in number_list: #If the value is in number_list\n",
    "        number_list.remove(_) #Remove it\n",
    "\n",
    "print(round((sum(number_list)/2), 2)) "
   ]
  },
  {
   "cell_type": "markdown",
   "id": "6bd8a2df",
   "metadata": {},
   "source": [
    "# 03_If_04\n",
    "Shorter version for mobile phone number checking\n",
    "\n",
    "Use list to help shorten the code\n",
    "\n",
    "len() is the function for checking length of a string, list, dictionary, and etc.\n"
   ]
  },
  {
   "cell_type": "code",
   "execution_count": 13,
   "id": "30cb1f9c",
   "metadata": {},
   "outputs": [
    {
     "name": "stdout",
     "output_type": "stream",
     "text": [
      "0959076969\n",
      "Mobile number\n"
     ]
    }
   ],
   "source": [
    "phone = input() #use input as string because it is separable and want to check if it in the list\n",
    "mobile_list = [\"06\", \"08\", \"09\"]\n",
    "if phone[0:2] in mobile_list and len(phone) == 10: #phone[0:2] is to get first 2 number from input\n",
    "    print(\"Mobile number\")\n",
    "else: \n",
    "    print(\"Not a mobile number\")"
   ]
  },
  {
   "cell_type": "markdown",
   "id": "03214208",
   "metadata": {},
   "source": [
    "# 03_If_05\n",
    "\n",
    "2 if-else statement\n",
    "\n",
    "the first one is to check is it positive or negative and the second one is check odd or even\n",
    "\n",
    "% (Modular) is the function use to find reminder\n",
    "\n",
    "we all know that all even number can be divided by 2 completely, so if a given number modular 2 = 0, then it is even\n"
   ]
  },
  {
   "cell_type": "code",
   "execution_count": 8,
   "id": "cc94d2b6",
   "metadata": {},
   "outputs": [
    {
     "name": "stdout",
     "output_type": "stream",
     "text": [
      "38000000006\n",
      "positive\n",
      "even\n"
     ]
    }
   ],
   "source": [
    "a = int(input())\n",
    "if a < 0: \n",
    "    print(\"negative\")\n",
    "elif a == 0: \n",
    "    print(\"zero\")\n",
    "else: \n",
    "    print(\"positive\")\n",
    "\n",
    "if a % 2 == 0: \n",
    "    print(\"even\")\n",
    "else: \n",
    "    print(\"odd\")"
   ]
  },
  {
   "cell_type": "markdown",
   "id": "0abf44e9",
   "metadata": {},
   "source": [
    "# 03_If_06\n",
    "\n",
    "This if-else statement is also order sensitive"
   ]
  },
  {
   "cell_type": "code",
   "execution_count": 9,
   "id": "d08b7832",
   "metadata": {},
   "outputs": [
    {
     "name": "stdout",
     "output_type": "stream",
     "text": [
      "345\n",
      "28\n"
     ]
    }
   ],
   "source": [
    "a = int(input())\n",
    "\n",
    "if a <= 100: \n",
    "    print(\"18\")\n",
    "elif a <= 250: \n",
    "    print(\"22\")\n",
    "elif a <= 500: \n",
    "    print(\"28\")\n",
    "elif a <= 1000: \n",
    "    print(\"38\")\n",
    "elif a <= 2000: \n",
    "    print(\"58\")\n",
    "else: \n",
    "    print(\"Reject\")"
   ]
  },
  {
   "cell_type": "markdown",
   "id": "95b0bcd3",
   "metadata": {},
   "source": [
    "# 03_If_07\n",
    "This looks hard but it actually easy\n",
    "\n",
    "If you want to print a number with a string without space, you need to convert int to string first using str() \n",
    "\n"
   ]
  },
  {
   "cell_type": "code",
   "execution_count": 11,
   "id": "78f39e4e",
   "metadata": {},
   "outputs": [
    {
     "name": "stdout",
     "output_type": "stream",
     "text": [
      "567899876543\n",
      "568B\n"
     ]
    }
   ],
   "source": [
    "a = int(input())\n",
    "if a <= 999: \n",
    "    print(a)\n",
    "elif a <= 9999: \n",
    "    print(str(round(a/1000, 1)) + \"K\" )\n",
    "elif a <= 999999: \n",
    "    print(str(round(a/1000)) + \"K\")\n",
    "elif a <= 9999999: \n",
    "    print(str(round(a/1000000, 1)) + \"M\")\n",
    "elif a <= 999999999: \n",
    "    print(str(round(a/1000000)) + \"M\")\n",
    "elif a <= 9999999999: \n",
    "    print(str(round(a/1000000000, 1)) + \"B\")\n",
    "else: \n",
    "    print(str(round(a/1000000000)) + \"B\")"
   ]
  },
  {
   "cell_type": "markdown",
   "id": "93028869",
   "metadata": {},
   "source": [
    "# 03_If_08\n",
    "\n",
    "Leap year calculating method: https://replit.com/@appbrewery/day-3-3-exercise\n",
    "\n",
    "First we write all day in month into a list and the idea is using month to calulate day\n"
   ]
  },
  {
   "cell_type": "code",
   "execution_count": null,
   "id": "ce4463dd",
   "metadata": {},
   "outputs": [],
   "source": [
    "dd = int(input())\n",
    "mm = int(input())\n",
    "yy = int(input())\n",
    "yy_christian = yy - 543\n",
    "\n",
    "day_in_months = [31, 28, 31, 30, 31, 30, 31, 31, 30, 31, 30, 31]\n",
    "\n",
    "def leap_calc(): #You dont need to create function like this\n",
    "    div4 = yy_christian % 4\n",
    "    div100 = yy_christian % 100\n",
    "    div400 = yy_christian % 400\n",
    "\n",
    "    if div4 == 0:\n",
    "        if div100 == 0:\n",
    "            if div400 == 0:\n",
    "                return True\n",
    "            else:\n",
    "                return False\n",
    "        else:\n",
    "            return True\n",
    "    else:\n",
    "        return False\n",
    "\n",
    "day = sum(day_in_months[0:mm-1]) + dd #Using month calculate day\n",
    "\n",
    "if leap_calc() is True:\n",
    "    day += 1\n",
    "\n",
    "print(day)"
   ]
  }
 ],
 "metadata": {
  "kernelspec": {
   "display_name": "Python 3 (ipykernel)",
   "language": "python",
   "name": "python3"
  },
  "language_info": {
   "codemirror_mode": {
    "name": "ipython",
    "version": 3
   },
   "file_extension": ".py",
   "mimetype": "text/x-python",
   "name": "python",
   "nbconvert_exporter": "python",
   "pygments_lexer": "ipython3",
   "version": "3.9.6"
  }
 },
 "nbformat": 4,
 "nbformat_minor": 5
}
